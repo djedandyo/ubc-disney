{
 "cells": [
  {
   "cell_type": "markdown",
   "metadata": {},
   "source": [
    "# Data analysis of Disney datasets - by Andrew Ostensen"
   ]
  },
  {
   "cell_type": "markdown",
   "metadata": {
    "tags": []
   },
   "source": [
    "# Introduction\n",
    "\n",
    "## Question of interest\n",
    "In this analysis, I will investigate the following question associated with this collection of Disney datasets.\n",
    "\n",
    "**QUESTION:**  Which person (actor or director) has had the greatest financial impact on Disney revenues. This is interesting because Disney has different revenue streams and I would be interested to see which Disney animated movie(s) and therefore which actor/director is most impactful. I would expect the people associated with a blockbuster movie such as **The Lion King** to have had the most impact.\n",
    "\n",
    "## Dataset description \n",
    "\n",
    "The datasets were obtained from the [website](https://data.world/kgarrett/disney-character-success-00-16) [1] and the following quote is from [website](https://en.wikipedia.org/wiki/List_of_Walt_Disney_Animation_Studios_films) [2].\n",
    "\n",
    "\"Walt Disney Animation Studios is an American animation studio headquartered in Burbank, California, the original feature film division of The Walt Disney Company. The studio's films are also often called \"Disney Classics\", or \"Disney Animated Canon\"\n",
    "\n",
    "The Disney dataset is composed of $5$ tables, `disney_movies_total_gross.csv`, `disney_revenue_1991-2016.csv`, `disney-characters.csv`, `disney-director.csv` and `disney-voice-actors.csv` . Each table is stored in a `.csv` file and contains different information about Disney animated characters, movies, actors, directors and Disney corporate revenues. I will use the `disney_movies_total_gross.csv`,  `disney_revenue_1991-2016.csv`, `disney-director.csv`, and `disney-voice-actors.csv` tables formally described below:\n",
    "\n",
    "* **disney_movies_total_gross.csv**\n",
    "    * This file contains financial information on Disney movies (including non animated movies).  Columns include the movie title, the release date of the movie, the genre and MPAA rating, and its total gross and inflation adjusted gross take.\n",
    "* **disney_revenue_1991_2016.csv**\n",
    "    * This file contains financial information on Disney corporate revenue between 1991 and 2016, including the year, revenue from the Studio Entertainment division, revenue from the Consumer Products division, revenue from the Disney Interactive division, revenue from Parks & Resorts, and revenue from Disney Media Networks.\n",
    "* **disney_director.csv**\n",
    "    * This file contains information on the movie directors for Disney animated films, including the movie name and the name of the movie director.    \n",
    "* **disney_voice_actors.csv**\n",
    "    * This file includes information on the voice actors for Disney animated films, including the movie character name, the voice actor name and the movie name."
   ]
  },
  {
   "cell_type": "markdown",
   "metadata": {},
   "source": [
    "# Methods and Results\n",
    "\n",
    "I am interested in analysing how the different people involved in making a movie can impact the revenue of the Disney corporation. For this analysis I will use the **disney_movies_total_gross**, the **disney_revenue_1991_2016**, the **disney_director** and the **disney_voice_actors** tables."
   ]
  },
  {
   "cell_type": "markdown",
   "metadata": {},
   "source": [
    "## Step 1\n",
    "The first step is to import the tables and do some basic analysis such as observing null values and the data types for each dataframe."
   ]
  },
  {
   "cell_type": "code",
   "execution_count": null,
   "metadata": {},
   "outputs": [],
   "source": [
    "# Import all of the required libraries needed for this analysis\n",
    "import altair as alt\n",
    "import pandas as pd\n",
    "\n",
    "# Import all of the required files\n",
    "# Convert the 'release_date' column in the 'movies' DataFrame to a datetime64 datatype\n",
    "directors = pd.read_csv('data/disney-director.csv')\n",
    "actors = pd.read_csv('data/disney-voice-actors.csv')\n",
    "movies = pd.read_csv('data/disney_movies_total_gross.csv', parse_dates=['release_date'])\n",
    "revenue = pd.read_csv('data/disney_revenue_1991-2016.csv')"
   ]
  },
  {
   "cell_type": "markdown",
   "metadata": {},
   "source": [
    "#### Step 1(a)\n",
    "**directors** dataframe"
   ]
  },
  {
   "cell_type": "code",
   "execution_count": null,
   "metadata": {},
   "outputs": [],
   "source": [
    "directors.head()"
   ]
  },
  {
   "cell_type": "code",
   "execution_count": null,
   "metadata": {},
   "outputs": [],
   "source": [
    "directors.info()"
   ]
  },
  {
   "cell_type": "markdown",
   "metadata": {},
   "source": [
    "The **directors** table has 56 rows and 2 columns. Each movie name has an associated director.  There are no missing entries and the datatype is appropriate for these columns.  Both the **name** and **director** columns are of interest for this analysis."
   ]
  },
  {
   "cell_type": "markdown",
   "metadata": {},
   "source": [
    "#### Step 1(b)\n",
    "**actors** dataframe"
   ]
  },
  {
   "cell_type": "code",
   "execution_count": null,
   "metadata": {},
   "outputs": [],
   "source": [
    "actors.head()"
   ]
  },
  {
   "cell_type": "code",
   "execution_count": null,
   "metadata": {},
   "outputs": [],
   "source": [
    "actors.info()"
   ]
  },
  {
   "cell_type": "code",
   "execution_count": null,
   "metadata": {},
   "outputs": [],
   "source": [
    "actors.describe()"
   ]
  },
  {
   "cell_type": "markdown",
   "metadata": {},
   "source": [
    "The **actors** table has 935 rows and 3 columns. Each movie character has a corresponding voice actor and movie.  A voice actor can be associated with more than one movie character.  There are no missing entries and the datatype is appropriate for these columns.  \n",
    "\n",
    "The most frequent voice-actor in the **actors** dataframe is **None**.  This is not useful for this analysis so therefore rows containing **None** should be deleted.\n",
    "\n",
    "The **voice-actor** and **movie** columns are of interest for this analysis."
   ]
  },
  {
   "cell_type": "markdown",
   "metadata": {},
   "source": [
    "#### Step 1(c)\n",
    "**movies** dataframe"
   ]
  },
  {
   "cell_type": "code",
   "execution_count": null,
   "metadata": {},
   "outputs": [],
   "source": [
    "movies.head()"
   ]
  },
  {
   "cell_type": "code",
   "execution_count": null,
   "metadata": {},
   "outputs": [],
   "source": [
    "movies.info()"
   ]
  },
  {
   "cell_type": "markdown",
   "metadata": {},
   "source": [
    "The **movies** dataframe has 579 rows and 6 columns. Each movie has a corresponding release date, genre, MPAA rating, total gross and inflation adjusted gross.  The **genre** and **MPAA_rating** columns both have null values but are not of interest for this analysis.  \n",
    "\n",
    "The **total_gross** and **inflation_adjusted_gross** columns have the wrong datatype - they need to be either int64 or float64.  The **movie_title**, **release_date** and **inflation_adjusted_gross** columns are of interest for this analysis."
   ]
  },
  {
   "cell_type": "markdown",
   "metadata": {},
   "source": [
    "#### Step 1(d)\n",
    "**revenue** dataframe"
   ]
  },
  {
   "cell_type": "code",
   "execution_count": null,
   "metadata": {},
   "outputs": [],
   "source": [
    "revenue.head()"
   ]
  },
  {
   "cell_type": "code",
   "execution_count": null,
   "metadata": {},
   "outputs": [],
   "source": [
    "revenue.info()"
   ]
  },
  {
   "cell_type": "markdown",
   "metadata": {},
   "source": [
    "The **revenue** dataframe has 26 rows and 7 columns. Each year has a corresponding revenue number from the following Disney divisions: \n",
    "\n",
    "        Studio Entertainment, \n",
    "        Disney Consumer Products, \n",
    "        Disney Interactive, \n",
    "        Walt Disney Parks and Resorts and \n",
    "        Disney Media Networks.      \n",
    "A final column of the Total revenue per year is also provided.  Four of the columns have null data.  \n",
    "\n",
    "The **Disney Media Networks** column has the wrong datatype - it needs to be float64.  \n",
    "\n",
    "The **Year**, **Studio Entertainment** and **Disney Consumer Products** columns are of interest for this analysis."
   ]
  },
  {
   "cell_type": "markdown",
   "metadata": {},
   "source": [
    "## Step 2\n",
    "The next step is to do some basic data wrangling such as fixing the improper data types and dealing with the null values observed in **Step 1**."
   ]
  },
  {
   "cell_type": "markdown",
   "metadata": {},
   "source": [
    "#### Step 2(a)\n",
    "**movies** dataframe:"
   ]
  },
  {
   "cell_type": "code",
   "execution_count": null,
   "metadata": {},
   "outputs": [],
   "source": [
    "# import the custom script\n",
    "import string_conversion as sc\n",
    "\n",
    "# Change the 'total_gross' and 'inflation_adjusted_gross' columns from str to int\n",
    "movies = sc.string_conversion(movies, 'total_gross')\n",
    "movies = sc.string_conversion(movies, 'inflation_adjusted_gross')\n",
    "\n",
    "# Confirm the change is successful\n",
    "movies.dtypes"
   ]
  },
  {
   "cell_type": "code",
   "execution_count": null,
   "metadata": {},
   "outputs": [],
   "source": [
    "# Add a new 'Year' column to the dataframe\n",
    "movies = movies.assign(Year=movies['release_date'].dt.year)\n",
    "\n",
    "# Only keep the columns of interest\n",
    "movies = movies[['movie_title', 'Year', 'inflation_adjusted_gross']]\n",
    "\n",
    "# Confirm changes by viewing dataframe\n",
    "movies.head()"
   ]
  },
  {
   "cell_type": "markdown",
   "metadata": {},
   "source": [
    "Create a **movies_plt** dataframe to plot the top 10 grossing movies."
   ]
  },
  {
   "cell_type": "code",
   "execution_count": null,
   "metadata": {},
   "outputs": [],
   "source": [
    "# Sort the 'movies' dataframe by 'inflation_adjusted_gross'\n",
    "movies_gross = (movies.sort_values(by='inflation_adjusted_gross', ascending=False)\n",
    "                      .reset_index()\n",
    "                      .loc[:9, ['movie_title', 'inflation_adjusted_gross']]\n",
    "             )\n",
    "\n",
    "# Plot the top 10 movies using a bar chart\n",
    "top_10_movies_plt = (alt.Chart(movies_gross, width=500, height=300)\n",
    "                        .mark_bar()\n",
    "                        .encode(x=alt.X('movie_title:N', sort='-y', title='Movie'),\n",
    "                                y=alt.Y('inflation_adjusted_gross:Q', title='Movie Gross ($)'))\n",
    "                        .properties(title=\"Figure 1 - Top Grossing Disney Movies\")\n",
    "                    )\n",
    "top_10_movies_plt"
   ]
  },
  {
   "cell_type": "markdown",
   "metadata": {},
   "source": [
    "#### Step 2(b)\n",
    "**revenue** dataframe:\n",
    "\n",
    "First create a **discount** column to account for the effects of inflation.\n",
    "\n",
    "Calculation is: [3]\n",
    "\n",
    "            PV = FV/(1 + i)^n\n",
    "            \n",
    "            where: PV = present value\n",
    "                   FV = future value\n",
    "                   i  = inflation rate\n",
    "                   n  = number of years\n",
    "                   \n",
    " Inflation rate assumed to be 2.51%. [4]                   "
   ]
  },
  {
   "cell_type": "code",
   "execution_count": null,
   "metadata": {},
   "outputs": [],
   "source": [
    "# Create 'discount' column\n",
    "inflation = 0.0251\n",
    "revenue = revenue.assign(Discount=(1.0/(1.0+inflation)**(revenue['Year']-revenue.loc[0, 'Year'])))\n",
    "\n",
    "# Discount rates are relative to row 0 in the DataFrame (1991 dollars)\n",
    "revenue[['Year', 'Discount']].head()"
   ]
  },
  {
   "cell_type": "markdown",
   "metadata": {},
   "source": [
    "Create an **Entertainment** column from the existing **Studio Entertainment[NI 1]** column.\n",
    "\n",
    "Modify as follows:\n",
    "\n",
    "            Fill null values with the previous row's data.\n",
    "            Create a rolling average with 2 years of data.\n",
    "            Shift the data back one year.\n",
    "            Apply the discount rate.\n",
    "\n",
    "Example:  1995 Studio Entertainment revenue = average of 1995/1996 revenue (in 1991 dollars).\n",
    "\n",
    "The assumption in this calculation is that a movie impacts revenue in both the current and subsequent year."
   ]
  },
  {
   "cell_type": "code",
   "execution_count": null,
   "metadata": {},
   "outputs": [],
   "source": [
    "# Create 'Entertainment' column\n",
    "revenue = (revenue.assign(Entertainment=revenue['Studio Entertainment[NI 1]']\n",
    "                  .fillna(method='bfill')\n",
    "                  .rolling(window=2)\n",
    "                  .mean()\n",
    "                  .shift(-1))\n",
    "           )\n",
    "revenue = revenue.assign(Entertainment=revenue['Entertainment']*revenue['Discount'])\n",
    "revenue[['Year', 'Entertainment']].head()"
   ]
  },
  {
   "cell_type": "markdown",
   "metadata": {},
   "source": [
    "Create a **Consumer** column from the existing **Disney Consumer Products[NI 2]** column.\n",
    "\n",
    "Modify using the same assumptions as the **Entertainment** column."
   ]
  },
  {
   "cell_type": "code",
   "execution_count": null,
   "metadata": {},
   "outputs": [],
   "source": [
    "# Create 'Consumer' column\n",
    "revenue = (revenue.assign(Consumer=revenue['Disney Consumer Products[NI 2]']\n",
    "                  .fillna(method='bfill')\n",
    "                  .rolling(window=2)\n",
    "                  .mean()\n",
    "                  .shift(-1))\n",
    "           )\n",
    "revenue = revenue.assign(Consumer=revenue['Consumer']*revenue['Discount'])\n",
    "revenue[['Year', 'Consumer']].head()"
   ]
  },
  {
   "cell_type": "markdown",
   "metadata": {},
   "source": [
    "Create a **Total** column, which sums the **Entertainment** and **Consumer** columns and multiplies this value by 1000000 so that the value is in dollars.\n",
    "\n",
    "The assumption in this calculation is that a movie impacts the Studio Entertainment and Consumer Products revenue but has minimal impact on Parks & Recreation, Media Networks & Interactive gaming revenue. \n",
    "\n",
    "Finally, drop any null values and only keep the required columns."
   ]
  },
  {
   "cell_type": "code",
   "execution_count": null,
   "metadata": {},
   "outputs": [],
   "source": [
    "# Create 'Total' column\n",
    "revenue = (revenue.assign(Total=(revenue['Consumer']+revenue['Entertainment'])*1000000.0)\n",
    "                  .reset_index()\n",
    "           )\n",
    "\n",
    "# Only keep the columns of interest\n",
    "revenue = revenue[['Year', 'Consumer', 'Entertainment', 'Total']]\n",
    "\n",
    "# Drop any null values\n",
    "revenue = revenue.dropna()\n",
    "\n",
    "# Confirm changes by viewing DataFrame\n",
    "revenue"
   ]
  },
  {
   "cell_type": "markdown",
   "metadata": {},
   "source": [
    "#### Step 2(c)\n",
    "**actors** dataframe:\n",
    "\n",
    "Remove the **None** actors from the dataframe."
   ]
  },
  {
   "cell_type": "code",
   "execution_count": null,
   "metadata": {},
   "outputs": [],
   "source": [
    "# Remove the 'None' actors\n",
    "actors = actors[~(actors['voice-actor']=='None')]\n",
    "actors.describe()"
   ]
  },
  {
   "cell_type": "markdown",
   "metadata": {},
   "source": [
    "## Step 3\n",
    "The next step is to combine the dataframes modified in **Step 2** to create a master dataframe for final visualization and analysis.\n",
    "\n",
    "#### Step 3(a)\n",
    "Merge **movies** and **revenue** dataframes."
   ]
  },
  {
   "cell_type": "code",
   "execution_count": null,
   "metadata": {},
   "outputs": [],
   "source": [
    "# Merge the 'movies' and 'revenue' dataframes\n",
    "disney_df = movies.merge(revenue, how='inner', left_on='Year', right_on='Year')\n",
    "disney_df.head()"
   ]
  },
  {
   "cell_type": "markdown",
   "metadata": {},
   "source": [
    "#### Step 3(b)\n",
    "Merge with the **actors** dataframe."
   ]
  },
  {
   "cell_type": "code",
   "execution_count": null,
   "metadata": {},
   "outputs": [],
   "source": [
    "# Merge the 'actors' dataframe\n",
    "# Drop the 'character' column\n",
    "disney_df = (disney_df.merge(actors, how='inner', left_on='movie_title', right_on='movie')\n",
    "                                       .drop(columns=['character', 'movie'])\n",
    "                        )\n",
    "disney_df.head()"
   ]
  },
  {
   "cell_type": "markdown",
   "metadata": {},
   "source": [
    "#### Step 3(c)\n",
    "Merge with the **directors** dataframe."
   ]
  },
  {
   "cell_type": "code",
   "execution_count": null,
   "metadata": {},
   "outputs": [],
   "source": [
    "# Merge the 'directors' dataframe\n",
    "disney_df = (disney_df.merge(directors, how='inner', left_on='movie_title', right_on='name')\n",
    "                                       .drop(columns=['name'])\n",
    "            )\n",
    "disney_df.head()"
   ]
  },
  {
   "cell_type": "markdown",
   "metadata": {},
   "source": [
    "#### Step 3(d)\n",
    "Combine the **voice-actor** and **director** columns using the **melt()** method."
   ]
  },
  {
   "cell_type": "code",
   "execution_count": null,
   "metadata": {},
   "outputs": [],
   "source": [
    "# Melt the 'voice-actor' and 'director' columns into a single column called 'role'\n",
    "disney_df = (disney_df.melt(id_vars=['Year', 'movie_title', 'inflation_adjusted_gross', 'Total'],\n",
    "                         value_vars=['voice-actor', 'director'],\n",
    "                         var_name=['role'],\n",
    "                         value_name='name')\n",
    "                     .drop_duplicates()\n",
    "                     .reset_index(drop=True)\n",
    "               )\n",
    "disney_df.head()"
   ]
  },
  {
   "cell_type": "markdown",
   "metadata": {},
   "source": [
    "## Step 4\n",
    "The final step is to analyze the master **disney_df** dataframe to determine which person (actor or director) has had the largest amount of revenue attributed to them.\n",
    "\n",
    "#### Step 4(a)\n",
    "First, determine the total movie gross on a per year basis. "
   ]
  },
  {
   "cell_type": "code",
   "execution_count": null,
   "metadata": {},
   "outputs": [],
   "source": [
    "# Create a 'yr_movies' DataFrame \n",
    "yr_movies = (disney_df.groupby(by='Year')\n",
    "                      .sum()['inflation_adjusted_gross']\n",
    "                      .reset_index()\n",
    "                      .rename(columns={'inflation_adjusted_gross': 'total_movies_gross'})\n",
    "            )\n",
    "yr_movies"
   ]
  },
  {
   "cell_type": "markdown",
   "metadata": {},
   "source": [
    "#### Step 4(b)\n",
    "Merge the **yr_movies** DataFrame with the **disney_df** DataFrame.\n",
    "\n",
    "Create an **adjusted_revenue** column in the new DataFrame.\n",
    "\n",
    "Calulation is:\n",
    "\n",
    "            Fraction of a movies gross for a year / \n",
    "            Total Consumer Products & Entertainment revenue for a year   \n",
    "The **adjusted_revenue** is assumed to be the movies contribution to corporate revenue for that year."
   ]
  },
  {
   "cell_type": "code",
   "execution_count": null,
   "metadata": {},
   "outputs": [],
   "source": [
    "# Merge the 'yr_movies' DataFrame\n",
    "final_df = disney_df.merge(yr_movies, how='left', left_on='Year', right_on='Year')\n",
    "final_df.head()"
   ]
  },
  {
   "cell_type": "code",
   "execution_count": null,
   "metadata": {},
   "outputs": [],
   "source": [
    "# Create 'adjusted_revenue' column\n",
    "final_df = final_df.assign(adjusted_revenue=final_df['inflation_adjusted_gross']/final_df['total_movies_gross']*final_df['Total'])\n",
    "final_df.head()"
   ]
  },
  {
   "cell_type": "markdown",
   "metadata": {},
   "source": [
    "#### Step 4(c)\n",
    "Group the DataFrame by the actor/director **name** column.\n",
    "\n",
    "Sum the **adjusted_revenue** column and then sort in a descending order.\n",
    "\n",
    "This will show the person(s) with the highest total revenue contribution."
   ]
  },
  {
   "cell_type": "code",
   "execution_count": null,
   "metadata": {},
   "outputs": [],
   "source": [
    "names = (final_df.groupby(by='name')\n",
    "               .sum()\n",
    "               .sort_values(by='adjusted_revenue', ascending=False)\n",
    "               .reset_index()\n",
    "        )\n",
    "\n",
    "# Keep the top 10 names for plotting\n",
    "names_plt = names.loc[:9, ['name', 'adjusted_revenue']]\n",
    "                            \n",
    "names_plt"
   ]
  },
  {
   "cell_type": "markdown",
   "metadata": {},
   "source": [
    "#### Step 4(d)\n",
    "Next, plot the results to display each persons impact on adjusted revenue."
   ]
  },
  {
   "cell_type": "code",
   "execution_count": null,
   "metadata": {},
   "outputs": [],
   "source": [
    "# Visualize the top 10 people's contributions to revenue using a bar plot.\n",
    "top_10_plot = (alt.Chart(names_plt, width=500, height=300).mark_bar()\n",
    "                                                .encode(x=alt.X('name:N', sort='-y', title='Name'),\n",
    "                                                        y=alt.Y('adjusted_revenue:Q', title='Adjusted Revenue ($)'))\n",
    "                                                .properties(title=\"Figure 2 - Contributions to Revenue by Person\")\n",
    "         )\n",
    "top_10_plot"
   ]
  },
  {
   "cell_type": "markdown",
   "metadata": {},
   "source": [
    "#### Step 4(e)\n",
    "Finally, view the movie(s) associated with each person in the previous step."
   ]
  },
  {
   "cell_type": "code",
   "execution_count": null,
   "metadata": {},
   "outputs": [],
   "source": [
    "# Merge the 'top_10_plot' dataframe with the 'disney_df' dataframe\n",
    "# to link the highest contributors to their associated movies\n",
    "name_movies = names_plt.merge(disney_df, how='inner', left_on='name', right_on='name')\n",
    "name_movies = name_movies[['name', 'movie_title']]\n",
    "\n",
    "name_movies"
   ]
  },
  {
   "cell_type": "markdown",
   "metadata": {},
   "source": [
    "# Discussions\n",
    "\n",
    "In this work, I analyzed the Disney datasets and tried to compute which person(s) had the most impact on company revenue. To complete this analysis I made several assumptions, the biggest assumption being that the fraction of a movies gross take for the year is directly correlated to the Disney corporation's studio entertainment and consumer products revenue.\n",
    "\n",
    "It is quite surprising that **Don Hall** and **Daniel Henney** who worked on **Big Hero 6** are the biggest contributors. I would have guessed that someone who worked on a bigger hit movie such as **The Lion King** or someone with multiple movie credits such as third place contributor **David Ogden Stiers** would have been the biggest contributor to company revenue.\n",
    "\n",
    "The biggest limitation to this analysis is that the datasets for actors and directors only include Disney Animation movies and do not include other Disney properties such as **Star Wars Ep. VII: The Force Awakens**. Consequently, if a non Disney Animation movies is a huge hit, the total movie gross will be larger for that year and the fraction attributed to the Disney Animation movie will be skewed.  Having additional data with actors and directors for all Disney movies would be an improvement."
   ]
  },
  {
   "cell_type": "markdown",
   "metadata": {},
   "source": [
    "# References\n",
    "\n",
    "Refer to the following resources listed below which were used for this analysis.\n",
    "\n",
    "## Resources used\n",
    "\n",
    "* [Data Source](https://data.world/kgarrett/disney-character-success-00-16) [1]\n",
    "    * The Disney datasets used in this work was curated by **Kelly Garrett**.\n",
    "* [Quote Source](https://en.wikipedia.org/wiki/List_of_Walt_Disney_Animation_Studios_films) [2]\n",
    "    * Information on Disney Studios was taken from **Wikipedia**.\n",
    "* [Present Value Calculation](https://www.calculatorsoup.com/calculators/financial/present-value-calculator.php) [3]\n",
    "    * The Present Value calculation is from **calculatorsoup.com**.\n",
    "* [Inflation Rate](https://www.minneapolisfed.org/about-us/monetary-policy/inflation-calculator/consumer-price-index-1913-) [4]\n",
    "    * The Inflation Rate is from the **Federal Reserve Bank of Minneapolis**."
   ]
  },
  {
   "cell_type": "code",
   "execution_count": null,
   "metadata": {},
   "outputs": [],
   "source": []
  }
 ],
 "metadata": {
  "kernelspec": {
   "display_name": "Python 3 (ipykernel)",
   "language": "python",
   "name": "python3"
  },
  "language_info": {
   "codemirror_mode": {
    "name": "ipython",
    "version": 3
   },
   "file_extension": ".py",
   "mimetype": "text/x-python",
   "name": "python",
   "nbconvert_exporter": "python",
   "pygments_lexer": "ipython3",
   "version": "3.9.13"
  }
 },
 "nbformat": 4,
 "nbformat_minor": 4
}
